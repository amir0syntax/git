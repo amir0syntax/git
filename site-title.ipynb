{
 "cells": [
  {
   "cell_type": "markdown",
   "metadata": {},
   "source": [
    "library"
   ]
  },
  {
   "cell_type": "code",
   "execution_count": 1,
   "metadata": {},
   "outputs": [],
   "source": [
    "import pandas as pd\n",
    "import requests as rq\n",
    "from bs4 import BeautifulSoup\n",
    "from persiantools.digits import fa_to_en"
   ]
  },
  {
   "cell_type": "markdown",
   "metadata": {},
   "source": [
    "site linke"
   ]
  },
  {
   "cell_type": "code",
   "execution_count": 2,
   "metadata": {},
   "outputs": [],
   "source": [
    "response = rq.get(\"https://www.zoomg.ir/\")\n",
    "response.encoding = \"UTF-8\""
   ]
  },
  {
   "cell_type": "markdown",
   "metadata": {},
   "source": [
    "Find the parts you need"
   ]
  },
  {
   "cell_type": "code",
   "execution_count": 3,
   "metadata": {},
   "outputs": [
    {
     "name": "stdout",
     "output_type": "stream",
     "text": [
      "[<div class=\"boxWrapper js-topic-row\"><div class=\"imgContainer\"><div class=\"imgContainer col-md-4 col-sm-4 col-xs-4\"><a href=\"https://www.zoomg.ir/cinema-news/368589-deadpool-wolverine-record-breaking-runtime/\" target=\"\"> <img alt=\"فیلم Deadpool and Wolverine رکورد مدت زمان فیلم‌های ددپول را شکست\" class=\"pull-right js-lazy-load\" data-src=\"https://cdn.zoomg.ir/2024/5/deadpool-and-wolverine-they-argue-with-each-other.jpg?w=400&amp;h=267\" width=\"150\"/> </a><div class=\"topicCategories\"><a href=\"https://www.zoomg.ir/cinema-news/\"><label style=\"cursor:pointer\">اخبار سینما و تلویزیون</label></a> <a href=\"https://www.zoomg.ir/deadpool/\"><label style=\"cursor:pointer\">ددپول</label></a></div></div><div class=\"Contents col-md-8 col-sm-8 col-xs-8\"><h3><a href=\"https://www.zoomg.ir/cinema-news/368589-deadpool-wolverine-record-breaking-runtime/\"> فیلم Deadpool and Wolverine رکورد مدت زمان فیلم‌های ددپول را شکست </a></h3><ul class=\"inline-block\"><li><i class=\"fa fa-user\"></i><a href=\"https://www.zoomg.ir/author/captain%20america/\">مسیح کریمی</a><li><i class=\"fa fa-calendar\"></i>18:25 1403/02/30<li class=\"pull-left\"><i class=\"fa fa-comment\"></i>4</li></li></li></ul><p>مدت زمان احتمالی فیلم Deadpool and Wolverine مشخص شده است که این فیلم نسبت به دو قسمت قبلی ددپول طولانی‌تر خواهد بود.</p></div></div></div>, <div class=\"boxWrapper js-topic-row\"><div class=\"imgContainer\"><div class=\"imgContainer col-md-4 col-sm-4 col-xs-4\"><a href=\"https://www.zoomg.ir/cinema-news/368588-insidious-6-movie-release-date/\" target=\"\"> <img alt=\"تاریخ اکران فیلم Insidious 6 اعلام شد\" class=\"pull-right js-lazy-load\" data-src=\"https://cdn.zoomg.ir/2023/8/insidious-the-red-door-characters.jpg?w=400&amp;h=267\" width=\"150\"/> </a><div class=\"topicCategories\"><a href=\"https://www.zoomg.ir/cinema-news/\"><label style=\"cursor:pointer\">اخبار سینما و تلویزیون</label></a> <a href=\"https://www.zoomg.ir/blumhouse/\"><label style=\"cursor:pointer\">شرکت بلام‌هاوس</label></a></div></div><div class=\"Contents col-md-8 col-sm-8 col-xs-8\"><h3><a href=\"https://www.zoomg.ir/cinema-news/368588-insidious-6-movie-release-date/\"> تاریخ اکران فیلم Insidious 6 اعلام شد </a></h3><ul class=\"inline-block\"><li><i class=\"fa fa-user\"></i><a href=\"https://www.zoomg.ir/author/captain%20america/\">مسیح کریمی</a><li><i class=\"fa fa-calendar\"></i>16:06 1403/02/30<li class=\"pull-left\"><i class=\"fa fa-comment\"></i>7</li></li></li></ul><p>سونی پیکچرز تاریخ اکران فیلم Insidious 6 به تهیه‌کنندگی جیمز وان را رسما تایید و اعلام کرده است.</p></div></div></div>, <div class=\"boxWrapper js-topic-row\"><div class=\"imgContainer\"><div class=\"imgContainer col-md-4 col-sm-4 col-xs-4\"><a href=\"https://www.zoomg.ir/game-news/368587-manor-lords-2m-copies-sold/\" target=\"\"> <img alt=\"فروش فوق‌العاده بازی Manor Lords ادامه دارد\" class=\"pull-right js-lazy-load\" data-src=\"https://cdn.zoomg.ir/2024/4/manor-lords-1.jpg?w=400&amp;h=267\" width=\"150\"/> </a><div class=\"topicCategories\"><a href=\"https://www.zoomg.ir/game-news/\"><label style=\"cursor:pointer\">اخبار بازی</label></a> <a href=\"https://www.zoomg.ir/pc/\"><label style=\"cursor:pointer\">کامپیوتر</label></a></div></div><div class=\"Contents col-md-8 col-sm-8 col-xs-8\"><h3><a href=\"https://www.zoomg.ir/game-news/368587-manor-lords-2m-copies-sold/\"> فروش فوق‌العاده بازی Manor Lords ادامه دارد </a></h3><ul class=\"inline-block\"><li><i class=\"fa fa-user\"></i><a href=\"https://www.zoomg.ir/author/alinorouzy/\">علی نوروزی</a><li><i class=\"fa fa-calendar\"></i>15:30 1403/02/30<li class=\"pull-left\"><i class=\"fa fa-comment\"></i>2</li></li></li></ul><p>شرکت Hooded Horse اعلام کرد که فروش بازی استراتژی همزمان Manor Lords از مرز دو میلیون نسخه عبور کرده است.</p></div></div></div>, <div class=\"boxWrapper js-topic-row\"><div class=\"imgContainer\"><div class=\"imgContainer col-md-4 col-sm-4 col-xs-4\"><a href=\"https://www.zoomg.ir/pr/368585-kifpool-bullish-market/\" target=\"\"> <img alt=\"کیف پول من: بیت کوین گاو چران در کیف پول 57 هزار رو رد کرد!\" class=\"pull-right js-lazy-load\" data-src=\"https://cdn.zoomg.ir/2024/5/123-1.jpg?w=400&amp;h=267\" width=\"150\"/> </a><div class=\"topicCategories\"><a href=\"https://www.zoomg.ir/pr/\"><label style=\"cursor:pointer\">رپورتاژ آگهی</label></a></div></div><div class=\"Contents col-md-8 col-sm-8 col-xs-8\"><h3><a href=\"https://www.zoomg.ir/pr/368585-kifpool-bullish-market/\"> کیف پول من: بیت کوین گاو چران در کیف پول 57 هزار رو رد کرد! </a></h3><ul class=\"inline-block\"><li><i class=\"fa fa-user\"></i><a href=\"https://www.zoomg.ir/author/zoomad/\">بخش تبلیغات </a><li><i class=\"fa fa-calendar\"></i>11:30 1403/02/30<li class=\"pull-left\"><i class=\"fa fa-comment\"></i>14</li></li></li></ul><p>«کیف پول من» در این مقاله، مفهوم «بازار گاوی»‌ و شاخص‌های تأثیرگذار پیرامون آن را بررسی می‌کند.</p></div></div></div>, <div class=\"boxWrapper js-topic-row\"><div class=\"imgContainer\"><div class=\"imgContainer col-md-4 col-sm-4 col-xs-4\"><a href=\"https://www.zoomit.ir/exhibition/421299-google-io-2024-wrapup/\" target=\"target=_blank\"> <img alt=\"مراسم I/O 2024 گوگل؛ هوش مصنوعی، قلب تپنده اندروید ۱۵\" class=\"pull-right js-lazy-load\" data-src=\"https://cdn.zoomg.ir/2024/5/google-io-2024.jpg?w=400&amp;h=267\" width=\"150\"/> </a><div class=\"topicCategories\"><a href=\"https://www.zoomg.ir/zoomg-family/\"><label style=\"cursor:pointer\">خانواده زومجی</label></a></div></div><div class=\"Contents col-md-8 col-sm-8 col-xs-8\"><h3><a href=\"https://www.zoomit.ir/exhibition/421299-google-io-2024-wrapup/\" target=\"_blank\"> مراسم I/O 2024 گوگل؛ هوش مصنوعی، قلب تپنده اندروید ۱۵ </a></h3><ul class=\"inline-block\"><li><i class=\"fa fa-user\"></i><a href=\"https://www.zoomg.ir/author/zoomgfamily/\">خانواده زومجی </a><li><i class=\"fa fa-calendar\"></i>10:15 1403/02/30<li class=\"pull-left\"><i class=\"fa fa-comment\"></i>0</li></li></li></ul><p>گوگل در مراسم Google I/O 2024 بازطراحی اندروید با هوش مصنوعی را به‌نمایش گذاشت تا جدی‌تر از همیشه به مصاف اپل برود.</p></div></div></div>, <div class=\"boxWrapper js-topic-row\"><div class=\"imgContainer\"><div class=\"imgContainer col-md-4 col-sm-4 col-xs-4\"><a href=\"https://www.zoomg.ir/game-news/368579-stellar-blade-update-teased-may/\" target=\"\"> <img alt=\"بازی Stellar Blade میزبان به‌روزرسانی جدیدی می‌شود\" class=\"pull-right js-lazy-load\" data-src=\"https://cdn.zoomg.ir/2024/4/stellar-blade-costumes.jpg?w=400&amp;h=267\" width=\"150\"/> </a><div class=\"topicCategories\"><a href=\"https://www.zoomg.ir/game-news/\"><label style=\"cursor:pointer\">اخبار بازی</label></a> <a href=\"https://www.zoomg.ir/playstation/\"><label style=\"cursor:pointer\">پلی استیشن</label></a></div></div><div class=\"Contents col-md-8 col-sm-8 col-xs-8\"><h3><a href=\"https://www.zoomg.ir/game-news/368579-stellar-blade-update-teased-may/\"> بازی Stellar Blade میزبان به‌روزرسانی جدیدی می‌شود </a></h3><ul class=\"inline-block\"><li><i class=\"fa fa-user\"></i><a href=\"https://www.zoomg.ir/author/mamdosein/\">محمدحسین خلجی</a><li><i class=\"fa fa-calendar\"></i>09:45 1403/02/30<li class=\"pull-left\"><i class=\"fa fa-comment\"></i>13</li></li></li></ul><p>استودیو Shift Up در توییت جدیدی به انتشار به‌روزرسانی آتی بازی Stellar Blade در هفته جاری اشاره کرده است.</p></div></div></div>, <div class=\"boxWrapper js-topic-row\"><div class=\"imgContainer\"><div class=\"imgContainer col-md-4 col-sm-4 col-xs-4\"><a href=\"https://www.zoomg.ir/cinema-news/368582-venom-last-dance-final-venom-movie/\" target=\"\"> <img alt=\"فیلم ونوم ۳ به کار مجموعه پایان خواهد داد\" class=\"pull-right js-lazy-load\" data-src=\"https://cdn.zoomg.ir/2024/5/venom-the-last-dance-symbiote.jpg?w=400&amp;h=267\" width=\"150\"/> </a><div class=\"topicCategories\"><a href=\"https://www.zoomg.ir/cinema-news/\"><label style=\"cursor:pointer\">اخبار سینما و تلویزیون</label></a> <a href=\"https://www.zoomg.ir/marvel/\"><label style=\"cursor:pointer\">مارول</label></a></div></div><div class=\"Contents col-md-8 col-sm-8 col-xs-8\"><h3><a href=\"https://www.zoomg.ir/cinema-news/368582-venom-last-dance-final-venom-movie/\"> فیلم ونوم ۳ به کار مجموعه پایان خواهد داد </a></h3><ul class=\"inline-block\"><li><i class=\"fa fa-user\"></i><a href=\"https://www.zoomg.ir/author/alinorouzy/\">علی نوروزی</a><li><i class=\"fa fa-calendar\"></i>09:30 1403/02/30<li class=\"pull-left\"><i class=\"fa fa-comment\"></i>12</li></li></li></ul><p>تیم راثمن، مدیرعامل سونی پیکچرز اعلام کرد که Venom: The Last Dance آخرین فیلم مجموعه ونوم خواهد بود.</p></div></div></div>, <div class=\"boxWrapper js-topic-row\"><div class=\"imgContainer\"><div class=\"imgContainer col-md-4 col-sm-4 col-xs-4\"><a href=\"https://www.zoomg.ir/cinema-news/368581-angry-birds-mystery-island-clip/\" target=\"\"> <img alt=\"کلیپ انیمیشن سریالی Angry Birds؛ مواجهه با گیاه مرموز\" class=\"pull-right js-lazy-load\" data-src=\"https://cdn.zoomg.ir/2024/5/angry-birds-mystery-island-hatchlings.jpg?w=400&amp;h=267\" width=\"150\"/> </a><div class=\"topicCategories\"><a href=\"https://www.zoomg.ir/cinema-news/\"><label style=\"cursor:pointer\">اخبار سینما و تلویزیون</label></a> <a href=\"https://www.zoomg.ir/movie-trailers/\"><label style=\"cursor:pointer\">تریلر فیلم و سریال</label></a></div></div><div class=\"Contents col-md-8 col-sm-8 col-xs-8\"><h3><a href=\"https://www.zoomg.ir/cinema-news/368581-angry-birds-mystery-island-clip/\"> کلیپ انیمیشن سریالی Angry Birds؛ مواجهه با گیاه مرموز </a></h3><ul class=\"inline-block\"><li><i class=\"fa fa-user\"></i><a href=\"https://www.zoomg.ir/author/alinorouzy/\">علی نوروزی</a><li><i class=\"fa fa-calendar\"></i>09:15 1403/02/30<li class=\"pull-left\"><i class=\"fa fa-comment\"></i>1</li></li></li></ul><p>ویدیو جدیدی از انیمیشن سریالی Angry Birds Mystery Island پخش شد که مواجهه جوجه‌ها با یک گیاه حشره‌خوار را نشان می‌دهد.</p></div></div></div>, <div class=\"boxWrapper js-topic-row\"><div class=\"imgContainer\"><div class=\"imgContainer col-md-4 col-sm-4 col-xs-4\"><a href=\"https://www.zoomg.ir/cinema-news/368580-despicable-me-4-new-international-poster/\" target=\"\"> <img alt=\"پوستر انیمیشن من نفرت انگیز ۴؛ کمک ابرمینیون‌ها به گرو\" class=\"pull-right js-lazy-load\" data-src=\"https://cdn.zoomg.ir/2024/5/despicable-me-4-minion.jpg?w=400&amp;h=267\" width=\"150\"/> </a><div class=\"topicCategories\"><a href=\"https://www.zoomg.ir/cinema-news/\"><label style=\"cursor:pointer\">اخبار سینما و تلویزیون</label></a> <a href=\"https://www.zoomg.ir/universal-pictures/\"><label style=\"cursor:pointer\">شرکت یونیورسال پیکچرز</label></a></div></div><div class=\"Contents col-md-8 col-sm-8 col-xs-8\"><h3><a href=\"https://www.zoomg.ir/cinema-news/368580-despicable-me-4-new-international-poster/\"> پوستر انیمیشن من نفرت انگیز ۴؛ کمک ابرمینیون‌ها به گرو </a></h3><ul class=\"inline-block\"><li><i class=\"fa fa-user\"></i><a href=\"https://www.zoomg.ir/author/alinorouzy/\">علی نوروزی</a><li><i class=\"fa fa-calendar\"></i>09:00 1403/02/30<li class=\"pull-left\"><i class=\"fa fa-comment\"></i>4</li></li></li></ul><p>شرکت یونیورسال پیکچرز پوستر بین‌المللی انیمیشن Despicable Me 4 را منتشر کرد که گروهی از مینیون‌های ابرقدرت را به نمایش در می‌آورد.</p></div></div></div>, <div class=\"boxWrapper js-topic-row\"><div class=\"imgContainer\"><div class=\"imgContainer col-md-4 col-sm-4 col-xs-4\"><a href=\"https://www.zoomg.ir/hardware-news/368578-ryzen-7-7800x3d-345/\" target=\"\"> <img alt=\"قیمت پردازنده AMD Ryzen 7 7800X3D کاهش یافت \" class=\"pull-right js-lazy-load\" data-src=\"https://cdn.zoomg.ir/2022/6/amd-ryzen-7000-very-compressed-scale-6-00x-custom-2060x1159.jpg?w=400&amp;h=267\" width=\"150\"/> </a><div class=\"topicCategories\"><a href=\"https://www.zoomg.ir/hardware-news/\"><label style=\"cursor:pointer\">اخبار سخت‌ افزار</label></a> <a href=\"https://www.zoomg.ir/tech-news/\"><label style=\"cursor:pointer\">اخبار فناوری</label></a></div></div><div class=\"Contents col-md-8 col-sm-8 col-xs-8\"><h3><a href=\"https://www.zoomg.ir/hardware-news/368578-ryzen-7-7800x3d-345/\"> قیمت پردازنده AMD Ryzen 7 7800X3D کاهش یافت </a></h3><ul class=\"inline-block\"><li><i class=\"fa fa-user\"></i><a href=\"https://www.zoomg.ir/author/mehdi1995/\">مهدی اسدی</a><li><i class=\"fa fa-calendar\"></i>23:54 1403/02/29<li class=\"pull-left\"><i class=\"fa fa-comment\"></i>11</li></li></li></ul><p>AMD با کاهش قیمت پردازنده‌های گیمینگ سری Zen4 آماده‌ی عرضه نسل جدید پردازنده‌های دسکتاپ Zen5 می‌شود.</p></div></div></div>, <div class=\"boxWrapper js-topic-row\"><div class=\"imgContainer\"><div class=\"imgContainer col-md-4 col-sm-4 col-xs-4\"><a href=\"https://www.zoomg.ir/hardware-news/368576-intel-requests-default-settings-profile-bios/\" target=\"\"> <img alt=\"اینتل درخواست رفع مشکل تنظیمات بایوس را به مادربردسازها ارسال کرد  \" class=\"pull-right js-lazy-load\" data-src=\"https://cdn.zoomg.ir/2024/5/dsc-0525-g-very-compressed-scale-4-00x-custom-scaled.jpg?w=400&amp;h=267\" width=\"150\"/> </a><div class=\"topicCategories\"><a href=\"https://www.zoomg.ir/hardware-news/\"><label style=\"cursor:pointer\">اخبار سخت‌ افزار</label></a> <a href=\"https://www.zoomg.ir/tech-news/\"><label style=\"cursor:pointer\">اخبار فناوری</label></a></div></div><div class=\"Contents col-md-8 col-sm-8 col-xs-8\"><h3><a href=\"https://www.zoomg.ir/hardware-news/368576-intel-requests-default-settings-profile-bios/\"> اینتل درخواست رفع مشکل تنظیمات بایوس را به مادربردسازها ارسال کرد </a></h3><ul class=\"inline-block\"><li><i class=\"fa fa-user\"></i><a href=\"https://www.zoomg.ir/author/mehdi1995/\">مهدی اسدی</a><li><i class=\"fa fa-calendar\"></i>22:44 1403/02/29<li class=\"pull-left\"><i class=\"fa fa-comment\"></i>2</li></li></li></ul><p>اینتل از تولیدکنندگان مادربردها درخواست کرد پروفایل تنظیمات پیشفرض BIOS را برای رفع مشکل پایداری پردازنده‌های نسل سیزدهم و چهاردهمی این شرکت اعمال کنند.</p></div></div></div>, <div class=\"boxWrapper js-topic-row\"><div class=\"imgContainer\"><div class=\"imgContainer col-md-4 col-sm-4 col-xs-4\"><a href=\"https://www.zoomg.ir/cinema-news/368575-megan-2-movie-release-date-delay/\" target=\"\"> <img alt=\"تاریخ اکران فیلم ترسناک مگان ۲ با تاخیر جدید مواجه شد\" class=\"pull-right js-lazy-load\" data-src=\"https://cdn.zoomg.ir/2023/1/m3gan-movie-allison-williams-and-violet-mcgraw.jpg?w=400&amp;h=267\" width=\"150\"/> </a><div class=\"topicCategories\"><a href=\"https://www.zoomg.ir/cinema-news/\"><label style=\"cursor:pointer\">اخبار سینما و تلویزیون</label></a> <a href=\"https://www.zoomg.ir/blumhouse/\"><label style=\"cursor:pointer\">شرکت بلام‌هاوس</label></a></div></div><div class=\"Contents col-md-8 col-sm-8 col-xs-8\"><h3><a href=\"https://www.zoomg.ir/cinema-news/368575-megan-2-movie-release-date-delay/\"> تاریخ اکران فیلم ترسناک مگان ۲ با تاخیر جدید مواجه شد </a></h3><ul class=\"inline-block\"><li><i class=\"fa fa-user\"></i><a href=\"https://www.zoomg.ir/author/captain%20america/\">مسیح کریمی</a><li><i class=\"fa fa-calendar\"></i>21:07 1403/02/29<li class=\"pull-left\"><i class=\"fa fa-comment\"></i>8</li></li></li></ul><p>یونیورسال پیکچرز و بلوم هاوس اعلام کردند که تاریخ اکران فیلم M3GAN 2 دوباره عقب افتاده است.</p></div></div></div>, <div class=\"boxWrapper js-topic-row\"><div class=\"imgContainer\"><div class=\"imgContainer col-md-4 col-sm-4 col-xs-4\"><a href=\"https://www.zoomg.ir/game-news/368574-ghost-of-tsushima-steam-launch/\" target=\"\"> <img alt=\"بازی Ghost of Tsushima عرضه موفقی روی استیم داشته است\" class=\"pull-right js-lazy-load\" data-src=\"https://cdn.zoomg.ir/2024/5/ghost-of-tsushima.jpg?w=400&amp;h=267\" width=\"150\"/> </a><div class=\"topicCategories\"><a href=\"https://www.zoomg.ir/game-news/\"><label style=\"cursor:pointer\">اخبار بازی</label></a> <a href=\"https://www.zoomg.ir/playstation/\"><label style=\"cursor:pointer\">پلی استیشن</label></a></div></div><div class=\"Contents col-md-8 col-sm-8 col-xs-8\"><h3><a href=\"https://www.zoomg.ir/game-news/368574-ghost-of-tsushima-steam-launch/\"> بازی Ghost of Tsushima عرضه موفقی روی استیم داشته است </a></h3><ul class=\"inline-block\"><li><i class=\"fa fa-user\"></i><a href=\"https://www.zoomg.ir/author/hnek/\">حسن اکرامی</a><li><i class=\"fa fa-calendar\"></i>20:54 1403/02/29<li class=\"pull-left\"><i class=\"fa fa-comment\"></i>28</li></li></li></ul><p>بازی Ghost of Tsushima چهارمین عرضه بزرگ پلی استیشن روی فروشگاه استیم را رقم زده است.</p></div></div></div>, <div class=\"boxWrapper js-topic-row\"><div class=\"imgContainer\"><div class=\"imgContainer col-md-4 col-sm-4 col-xs-4\"><a href=\"https://www.zoomg.ir/cinema-news/368573-cillian-murphy-confirmed-28-years-later/\" target=\"\"> <img alt=\"بازگشت کیلین مورفی در فیلم ۲۸ سال بعد تایید شد\" class=\"pull-right js-lazy-load\" data-src=\"https://cdn.zoomg.ir/2021/3/28-days-later-movie-london.jpg?w=400&amp;h=267\" width=\"150\"/> </a><div class=\"topicCategories\"><a href=\"https://www.zoomg.ir/cinema-news/\"><label style=\"cursor:pointer\">اخبار سینما و تلویزیون</label></a> <a href=\"https://www.zoomg.ir/sony-pictures-entertainment/\"><label style=\"cursor:pointer\">شرکت سرگرمی سونی پیکچرز</label></a></div></div><div class=\"Contents col-md-8 col-sm-8 col-xs-8\"><h3><a href=\"https://www.zoomg.ir/cinema-news/368573-cillian-murphy-confirmed-28-years-later/\"> بازگشت کیلین مورفی در فیلم ۲۸ سال بعد تایید شد </a></h3><ul class=\"inline-block\"><li><i class=\"fa fa-user\"></i><a href=\"https://www.zoomg.ir/author/captain%20america/\">مسیح کریمی</a><li><i class=\"fa fa-calendar\"></i>19:28 1403/02/29<li class=\"pull-left\"><i class=\"fa fa-comment\"></i>10</li></li></li></ul><p>سونی پیکچرز تایید کرد که کیلین مورفی، بازیگر نقش جیم به شکلی غافلگیرکننده در فیلم ۲۸ سال بعد حضور خواهد داشت.</p></div></div></div>, <div class=\"boxWrapper js-topic-row\"><div class=\"imgContainer\"><div class=\"imgContainer col-md-4 col-sm-4 col-xs-4\"><a href=\"https://www.zoomg.ir/game-news/368572-valve-next-game-deadlock-leaked/\" target=\"\"> <img alt=\"بازی شوتر و قهرمان محور ولو با نام Deadlock فاش شد\" class=\"pull-right js-lazy-load\" data-src=\"https://cdn.zoomg.ir/2024/5/deadlock.jpg?w=400&amp;h=267\" width=\"150\"/> </a><div class=\"topicCategories\"><a href=\"https://www.zoomg.ir/game-news/\"><label style=\"cursor:pointer\">اخبار بازی</label></a> <a href=\"https://www.zoomg.ir/pc/\"><label style=\"cursor:pointer\">کامپیوتر</label></a></div></div><div class=\"Contents col-md-8 col-sm-8 col-xs-8\"><h3><a href=\"https://www.zoomg.ir/game-news/368572-valve-next-game-deadlock-leaked/\"> بازی شوتر و قهرمان محور ولو با نام Deadlock فاش شد </a></h3><ul class=\"inline-block\"><li><i class=\"fa fa-user\"></i><a href=\"https://www.zoomg.ir/author/hnek/\">حسن اکرامی</a><li><i class=\"fa fa-calendar\"></i>17:38 1403/02/29<li class=\"pull-left\"><i class=\"fa fa-comment\"></i>12</li></li></li></ul><p>گزارش اخیر جزئیاتی درباره بازی تیراندازی و قهرمان‌محور جدید شرکت ولو به‌نام Deadlock فاش می‌کند.</p></div></div></div>, <div class=\"boxWrapper js-topic-row\"><div class=\"imgContainer\"><div class=\"imgContainer col-md-4 col-sm-4 col-xs-4\"><a href=\"https://www.zoomg.ir/game-news/368570-take-two-cancelled-games/\" target=\"\"> <img alt=\"تیک-تو چند بازی معرفی‌نشده را لغو کرده است\" class=\"pull-right js-lazy-load\" data-src=\"https://cdn.zoomg.ir/2024/5/take-two-interactive-logo.jpg?w=400&amp;h=267\" width=\"150\"/> </a><div class=\"topicCategories\"><a href=\"https://www.zoomg.ir/game-news/\"><label style=\"cursor:pointer\">اخبار بازی</label></a> <a href=\"https://www.zoomg.ir/playstation/\"><label style=\"cursor:pointer\">پلی استیشن</label></a></div></div><div class=\"Contents col-md-8 col-sm-8 col-xs-8\"><h3><a href=\"https://www.zoomg.ir/game-news/368570-take-two-cancelled-games/\"> تیک-تو چند بازی معرفی‌نشده را لغو کرده است </a></h3><ul class=\"inline-block\"><li><i class=\"fa fa-user\"></i><a href=\"https://www.zoomg.ir/author/hnek/\">حسن اکرامی</a><li><i class=\"fa fa-calendar\"></i>15:55 1403/02/29<li class=\"pull-left\"><i class=\"fa fa-comment\"></i>1</li></li></li></ul><p>تیک-تو اینتراکتیو اعلام کرد که توسعه چند بازی را لغو کرده است که از مجموعه بازی‌های اصلی این شرکت نبودند.</p></div></div></div>, <div class=\"boxWrapper js-topic-row\"><div class=\"imgContainer\"><div class=\"imgContainer col-md-4 col-sm-4 col-xs-4\"><a href=\"https://www.zoomg.ir/game-news/368569-phoenix-labs-layoffs/\" target=\"\"> <img alt=\"استودیو سازنده Dauntless با تعدیل نیرو مواجه شد\" class=\"pull-right js-lazy-load\" data-src=\"https://cdn.zoomg.ir/2024/5/dauntless-characters.jpg?w=400&amp;h=267\" width=\"150\"/> </a><div class=\"topicCategories\"><a href=\"https://www.zoomg.ir/game-news/\"><label style=\"cursor:pointer\">اخبار بازی</label></a> <a href=\"https://www.zoomg.ir/riot-games/\"><label style=\"cursor:pointer\">استودیو رایت گیمز</label></a></div></div><div class=\"Contents col-md-8 col-sm-8 col-xs-8\"><h3><a href=\"https://www.zoomg.ir/game-news/368569-phoenix-labs-layoffs/\"> استودیو سازنده Dauntless با تعدیل نیرو مواجه شد </a></h3><ul class=\"inline-block\"><li><i class=\"fa fa-user\"></i><a href=\"https://www.zoomg.ir/author/mamdosein/\">محمدحسین خلجی</a><li><i class=\"fa fa-calendar\"></i>15:10 1403/02/29<li class=\"pull-left\"><i class=\"fa fa-comment\"></i>1</li></li></li></ul><p>استودیو Phoenix Labs، سازنده دو بازی Dauntless و Fae Farm با تعدیل نیرو مواجه شد و پروژه‌های دیگر خود را لغو کرد.</p></div></div></div>]\n"
     ]
    }
   ],
   "source": [
    "if response.status_code == 200:\n",
    "    page = BeautifulSoup(response.content, \"html.parser\")\n",
    "    div = page.find(\"div\", class_=\"col-md-7 col-sm-9 col-xs-12 centerLayout\")\n",
    "    div = div.find_all(\"div\", class_=\"boxWrapper js-topic-row\")\n",
    "else:\n",
    "    print(f\"Failed to retrieve the webpage. Status code: {response.status_code}\")\n",
    "print(div)"
   ]
  },
  {
   "cell_type": "markdown",
   "metadata": {},
   "source": [
    "Find the name of the news, the link of the photo news and the time of publication"
   ]
  },
  {
   "cell_type": "code",
   "execution_count": 4,
   "metadata": {},
   "outputs": [],
   "source": [
    "news_list = []\n",
    "for web in div:\n",
    "    date_time = web.li.text\n",
    "    web = {\n",
    "        \"title\": web.h3.text,\n",
    "        \"link\": web.a[\"href\"],\n",
    "        \"img\": web.img[\"data-src\"],\n",
    "        \"date_time\": date_time\n",
    "    }\n",
    "    news_list.append(web)"
   ]
  },
  {
   "cell_type": "markdown",
   "metadata": {},
   "source": [
    "Saving data in csv format"
   ]
  },
  {
   "cell_type": "code",
   "execution_count": 5,
   "metadata": {},
   "outputs": [
    {
     "name": "stdout",
     "output_type": "stream",
     "text": [
      "                                                title  \\\n",
      "0    فیلم Deadpool and Wolverine رکورد مدت زمان فی...   \n",
      "1              تاریخ اکران فیلم Insidious 6 اعلام شد    \n",
      "2        فروش فوق‌العاده بازی Manor Lords ادامه دارد    \n",
      "3    کیف پول من: بیت کوین گاو چران در کیف پول 57 ه...   \n",
      "4    مراسم I/O 2024 گوگل؛ هوش مصنوعی، قلب تپنده ان...   \n",
      "5    بازی Stellar Blade میزبان به‌روزرسانی جدیدی م...   \n",
      "6          فیلم ونوم ۳ به کار مجموعه پایان خواهد داد    \n",
      "7    کلیپ انیمیشن سریالی Angry Birds؛ مواجهه با گی...   \n",
      "8    پوستر انیمیشن من نفرت انگیز ۴؛ کمک ابرمینیون‌...   \n",
      "9        قیمت پردازنده AMD Ryzen 7 7800X3D کاهش یافت    \n",
      "10   اینتل درخواست رفع مشکل تنظیمات بایوس را به ما...   \n",
      "11   تاریخ اکران فیلم ترسناک مگان ۲ با تاخیر جدید ...   \n",
      "12   بازی Ghost of Tsushima عرضه موفقی روی استیم د...   \n",
      "13    بازگشت کیلین مورفی در فیلم ۲۸ سال بعد تایید شد    \n",
      "14   بازی شوتر و قهرمان محور ولو با نام Deadlock ف...   \n",
      "15        تیک-تو چند بازی معرفی‌نشده را لغو کرده است    \n",
      "16   استودیو سازنده Dauntless با تعدیل نیرو مواجه شد    \n",
      "\n",
      "                                                 link  \\\n",
      "0   https://www.zoomg.ir/cinema-news/368589-deadpo...   \n",
      "1   https://www.zoomg.ir/cinema-news/368588-insidi...   \n",
      "2   https://www.zoomg.ir/game-news/368587-manor-lo...   \n",
      "3   https://www.zoomg.ir/pr/368585-kifpool-bullish...   \n",
      "4   https://www.zoomit.ir/exhibition/421299-google...   \n",
      "5   https://www.zoomg.ir/game-news/368579-stellar-...   \n",
      "6   https://www.zoomg.ir/cinema-news/368582-venom-...   \n",
      "7   https://www.zoomg.ir/cinema-news/368581-angry-...   \n",
      "8   https://www.zoomg.ir/cinema-news/368580-despic...   \n",
      "9   https://www.zoomg.ir/hardware-news/368578-ryze...   \n",
      "10  https://www.zoomg.ir/hardware-news/368576-inte...   \n",
      "11  https://www.zoomg.ir/cinema-news/368575-megan-...   \n",
      "12  https://www.zoomg.ir/game-news/368574-ghost-of...   \n",
      "13  https://www.zoomg.ir/cinema-news/368573-cillia...   \n",
      "14  https://www.zoomg.ir/game-news/368572-valve-ne...   \n",
      "15  https://www.zoomg.ir/game-news/368570-take-two...   \n",
      "16  https://www.zoomg.ir/game-news/368569-phoenix-...   \n",
      "\n",
      "                                                  img  \\\n",
      "0   https://cdn.zoomg.ir/2024/5/deadpool-and-wolve...   \n",
      "1   https://cdn.zoomg.ir/2023/8/insidious-the-red-...   \n",
      "2   https://cdn.zoomg.ir/2024/4/manor-lords-1.jpg?...   \n",
      "3   https://cdn.zoomg.ir/2024/5/123-1.jpg?w=400&h=267   \n",
      "4   https://cdn.zoomg.ir/2024/5/google-io-2024.jpg...   \n",
      "5   https://cdn.zoomg.ir/2024/4/stellar-blade-cost...   \n",
      "6   https://cdn.zoomg.ir/2024/5/venom-the-last-dan...   \n",
      "7   https://cdn.zoomg.ir/2024/5/angry-birds-myster...   \n",
      "8   https://cdn.zoomg.ir/2024/5/despicable-me-4-mi...   \n",
      "9   https://cdn.zoomg.ir/2022/6/amd-ryzen-7000-ver...   \n",
      "10  https://cdn.zoomg.ir/2024/5/dsc-0525-g-very-co...   \n",
      "11  https://cdn.zoomg.ir/2023/1/m3gan-movie-alliso...   \n",
      "12  https://cdn.zoomg.ir/2024/5/ghost-of-tsushima....   \n",
      "13  https://cdn.zoomg.ir/2021/3/28-days-later-movi...   \n",
      "14  https://cdn.zoomg.ir/2024/5/deadlock.jpg?w=400...   \n",
      "15  https://cdn.zoomg.ir/2024/5/take-two-interacti...   \n",
      "16  https://cdn.zoomg.ir/2024/5/dauntless-characte...   \n",
      "\n",
      "                          date_time  \n",
      "0       مسیح کریمی18:25 1403/02/304  \n",
      "1       مسیح کریمی16:06 1403/02/307  \n",
      "2       علی نوروزی15:30 1403/02/302  \n",
      "3    بخش تبلیغات 11:30 1403/02/3014  \n",
      "4   خانواده زومجی 10:15 1403/02/300  \n",
      "5   محمدحسین خلجی09:45 1403/02/3013  \n",
      "6      علی نوروزی09:30 1403/02/3012  \n",
      "7       علی نوروزی09:15 1403/02/301  \n",
      "8       علی نوروزی09:00 1403/02/304  \n",
      "9       مهدی اسدی23:54 1403/02/2911  \n",
      "10       مهدی اسدی22:44 1403/02/292  \n",
      "11      مسیح کریمی21:07 1403/02/298  \n",
      "12     حسن اکرامی20:54 1403/02/2928  \n",
      "13     مسیح کریمی19:28 1403/02/2910  \n",
      "14     حسن اکرامی17:38 1403/02/2912  \n",
      "15      حسن اکرامی15:55 1403/02/291  \n",
      "16   محمدحسین خلجی15:10 1403/02/291  \n"
     ]
    }
   ],
   "source": [
    "df = pd.DataFrame(news_list)\n",
    "print(df)\n",
    "df.to_csv(\"news.csv\")"
   ]
  }
 ],
 "metadata": {
  "kernelspec": {
   "display_name": "Python 3",
   "language": "python",
   "name": "python3"
  },
  "language_info": {
   "codemirror_mode": {
    "name": "ipython",
    "version": 3
   },
   "file_extension": ".py",
   "mimetype": "text/x-python",
   "name": "python",
   "nbconvert_exporter": "python",
   "pygments_lexer": "ipython3",
   "version": "3.8.8"
  }
 },
 "nbformat": 4,
 "nbformat_minor": 2
}
